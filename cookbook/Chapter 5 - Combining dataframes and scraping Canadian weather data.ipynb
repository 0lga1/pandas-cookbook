{
 "metadata": {
  "name": ""
 },
 "nbformat": 3,
 "nbformat_minor": 0,
 "worksheets": [
  {
   "cells": [
    {
     "cell_type": "code",
     "collapsed": false,
     "input": [
      "import pandas as pd\n",
      "pd.set_option('display.mpl_style', 'default')\n",
      "figsize(15,3)"
     ],
     "language": "python",
     "metadata": {},
     "outputs": [],
     "prompt_number": 30
    },
    {
     "cell_type": "markdown",
     "metadata": {},
     "source": [
      "# 5.1 Downloading one month of weather data"
     ]
    },
    {
     "cell_type": "markdown",
     "metadata": {},
     "source": [
      "When playing with the cycling data, I wanted temperature and precipitation data to find out of people like biking when it's raining. So I went to the site for [Canadian historical weather data](http://climate.weather.gc.ca/index_e.html#access), and figured out how to get it automatically.\n",
      "\n",
      "Here we're going to get the data for March 2012, and clean it up\n",
      "\n",
      "Here's an URL you can use to get data in Montreal. "
     ]
    },
    {
     "cell_type": "code",
     "collapsed": false,
     "input": [
      "url_template = \"http://climate.weather.gc.ca/climateData/bulkdata_e.html?format=csv&stationID=5415&Year={year}&Month={month}&timeframe=1&submit=Download+Data\""
     ],
     "language": "python",
     "metadata": {},
     "outputs": [],
     "prompt_number": 2
    },
    {
     "cell_type": "code",
     "collapsed": false,
     "input": [
      "url = url_template.format(month=3, year=2012)\n",
      "weather_mar2012 = pd.read_csv(url, skiprows=16, index_col='Date/Time', parse_dates=True, encoding='latin1')"
     ],
     "language": "python",
     "metadata": {},
     "outputs": [],
     "prompt_number": 10
    },
    {
     "cell_type": "markdown",
     "metadata": {},
     "source": [
      "This is super great! We can just use the same `read_csv` function as before, and just give it a URL as a filename. Awesome.\n",
      "\n",
      "There are 16 rows of metadata at the top of this CSV, but pandas knows CSVs are weird, so there's a `skiprows` options. We parse the dates again, and set 'Date/Time' to be the index column. Here's the resulting dataframe."
     ]
    },
    {
     "cell_type": "code",
     "collapsed": false,
     "input": [
      "weather_mar2012"
     ],
     "language": "python",
     "metadata": {},
     "outputs": [
      {
       "html": [
        "<pre>\n",
        "&lt;class 'pandas.core.frame.DataFrame'&gt;\n",
        "DatetimeIndex: 744 entries, 2012-03-01 00:00:00 to 2012-03-31 23:00:00\n",
        "Data columns (total 24 columns):\n",
        "Year                   744  non-null values\n",
        "Month                  744  non-null values\n",
        "Day                    744  non-null values\n",
        "Time                   744  non-null values\n",
        "Data Quality           744  non-null values\n",
        "Temp (\u00b0C)              744  non-null values\n",
        "Temp Flag              0  non-null values\n",
        "Dew Point Temp (\u00b0C)    744  non-null values\n",
        "Dew Point Temp Flag    0  non-null values\n",
        "Rel Hum (%)            744  non-null values\n",
        "Rel Hum Flag           0  non-null values\n",
        "Wind Dir (10s deg)     715  non-null values\n",
        "Wind Dir Flag          0  non-null values\n",
        "Wind Spd (km/h)        744  non-null values\n",
        "Wind Spd Flag          3  non-null values\n",
        "Visibility (km)        744  non-null values\n",
        "Visibility Flag        0  non-null values\n",
        "Stn Press (kPa)        744  non-null values\n",
        "Stn Press Flag         0  non-null values\n",
        "Hmdx                   12  non-null values\n",
        "Hmdx Flag              0  non-null values\n",
        "Wind Chill             242  non-null values\n",
        "Wind Chill Flag        1  non-null values\n",
        "Weather                744  non-null values\n",
        "dtypes: float64(14), int64(5), object(5)\n",
        "</pre>"
       ],
       "metadata": {},
       "output_type": "pyout",
       "prompt_number": 11,
       "text": [
        "<class 'pandas.core.frame.DataFrame'>\n",
        "DatetimeIndex: 744 entries, 2012-03-01 00:00:00 to 2012-03-31 23:00:00\n",
        "Data columns (total 24 columns):\n",
        "Year                   744  non-null values\n",
        "Month                  744  non-null values\n",
        "Day                    744  non-null values\n",
        "Time                   744  non-null values\n",
        "Data Quality           744  non-null values\n",
        "Temp (\u00b0C)              744  non-null values\n",
        "Temp Flag              0  non-null values\n",
        "Dew Point Temp (\u00b0C)    744  non-null values\n",
        "Dew Point Temp Flag    0  non-null values\n",
        "Rel Hum (%)            744  non-null values\n",
        "Rel Hum Flag           0  non-null values\n",
        "Wind Dir (10s deg)     715  non-null values\n",
        "Wind Dir Flag          0  non-null values\n",
        "Wind Spd (km/h)        744  non-null values\n",
        "Wind Spd Flag          3  non-null values\n",
        "Visibility (km)        744  non-null values\n",
        "Visibility Flag        0  non-null values\n",
        "Stn Press (kPa)        744  non-null values\n",
        "Stn Press Flag         0  non-null values\n",
        "Hmdx                   12  non-null values\n",
        "Hmdx Flag              0  non-null values\n",
        "Wind Chill             242  non-null values\n",
        "Wind Chill Flag        1  non-null values\n",
        "Weather                744  non-null values\n",
        "dtypes: float64(14), int64(5), object(5)"
       ]
      }
     ],
     "prompt_number": 11
    },
    {
     "cell_type": "markdown",
     "metadata": {},
     "source": [
      "You'll notice that there are a few columns which are are either entirely empty or only have a few values in them. Let's get rid of all of those with `dropna`.\n",
      "\n",
      "The argument `axis=1` to `dropna` means \"drop columns\", not rows\", and `how='any'` means \"drop the column if any value is null\". \n",
      "\n",
      "This is much better now -- we only have columns with real data."
     ]
    },
    {
     "cell_type": "code",
     "collapsed": false,
     "input": [
      "weather_mar2012 = weather_mar2012.dropna(axis=1, how='any')\n",
      "weather_mar2012[:5]"
     ],
     "language": "python",
     "metadata": {},
     "outputs": [
      {
       "html": [
        "<div style=\"max-height:1000px;max-width:1500px;overflow:auto;\">\n",
        "<table border=\"1\" class=\"dataframe\">\n",
        "  <thead>\n",
        "    <tr style=\"text-align: right;\">\n",
        "      <th></th>\n",
        "      <th>Year</th>\n",
        "      <th>Month</th>\n",
        "      <th>Day</th>\n",
        "      <th>Time</th>\n",
        "      <th>Data Quality</th>\n",
        "      <th>Temp (\u00b0C)</th>\n",
        "      <th>Dew Point Temp (\u00b0C)</th>\n",
        "      <th>Rel Hum (%)</th>\n",
        "      <th>Wind Spd (km/h)</th>\n",
        "      <th>Visibility (km)</th>\n",
        "      <th>Stn Press (kPa)</th>\n",
        "      <th>Weather</th>\n",
        "    </tr>\n",
        "    <tr>\n",
        "      <th>Date/Time</th>\n",
        "      <th></th>\n",
        "      <th></th>\n",
        "      <th></th>\n",
        "      <th></th>\n",
        "      <th></th>\n",
        "      <th></th>\n",
        "      <th></th>\n",
        "      <th></th>\n",
        "      <th></th>\n",
        "      <th></th>\n",
        "      <th></th>\n",
        "      <th></th>\n",
        "    </tr>\n",
        "  </thead>\n",
        "  <tbody>\n",
        "    <tr>\n",
        "      <th>2012-03-01 00:00:00</th>\n",
        "      <td> 2012</td>\n",
        "      <td> 3</td>\n",
        "      <td> 1</td>\n",
        "      <td> 00:00</td>\n",
        "      <td>  </td>\n",
        "      <td>-5.5</td>\n",
        "      <td>-9.7</td>\n",
        "      <td> 72</td>\n",
        "      <td> 24</td>\n",
        "      <td> 4.0</td>\n",
        "      <td> 100.97</td>\n",
        "      <td> Snow</td>\n",
        "    </tr>\n",
        "    <tr>\n",
        "      <th>2012-03-01 01:00:00</th>\n",
        "      <td> 2012</td>\n",
        "      <td> 3</td>\n",
        "      <td> 1</td>\n",
        "      <td> 01:00</td>\n",
        "      <td>  </td>\n",
        "      <td>-5.7</td>\n",
        "      <td>-8.7</td>\n",
        "      <td> 79</td>\n",
        "      <td> 26</td>\n",
        "      <td> 2.4</td>\n",
        "      <td> 100.87</td>\n",
        "      <td> Snow</td>\n",
        "    </tr>\n",
        "    <tr>\n",
        "      <th>2012-03-01 02:00:00</th>\n",
        "      <td> 2012</td>\n",
        "      <td> 3</td>\n",
        "      <td> 1</td>\n",
        "      <td> 02:00</td>\n",
        "      <td>  </td>\n",
        "      <td>-5.4</td>\n",
        "      <td>-8.3</td>\n",
        "      <td> 80</td>\n",
        "      <td> 28</td>\n",
        "      <td> 4.8</td>\n",
        "      <td> 100.80</td>\n",
        "      <td> Snow</td>\n",
        "    </tr>\n",
        "    <tr>\n",
        "      <th>2012-03-01 03:00:00</th>\n",
        "      <td> 2012</td>\n",
        "      <td> 3</td>\n",
        "      <td> 1</td>\n",
        "      <td> 03:00</td>\n",
        "      <td>  </td>\n",
        "      <td>-4.7</td>\n",
        "      <td>-7.7</td>\n",
        "      <td> 79</td>\n",
        "      <td> 28</td>\n",
        "      <td> 4.0</td>\n",
        "      <td> 100.69</td>\n",
        "      <td> Snow</td>\n",
        "    </tr>\n",
        "    <tr>\n",
        "      <th>2012-03-01 04:00:00</th>\n",
        "      <td> 2012</td>\n",
        "      <td> 3</td>\n",
        "      <td> 1</td>\n",
        "      <td> 04:00</td>\n",
        "      <td>  </td>\n",
        "      <td>-5.4</td>\n",
        "      <td>-7.8</td>\n",
        "      <td> 83</td>\n",
        "      <td> 35</td>\n",
        "      <td> 1.6</td>\n",
        "      <td> 100.62</td>\n",
        "      <td> Snow</td>\n",
        "    </tr>\n",
        "  </tbody>\n",
        "</table>\n",
        "</div>"
       ],
       "metadata": {},
       "output_type": "pyout",
       "prompt_number": 14,
       "text": [
        "                     Year  Month  Day   Time Data Quality  Temp (\u00b0C)  \\\n",
        "Date/Time                                                              \n",
        "2012-03-01 00:00:00  2012      3    1  00:00                    -5.5   \n",
        "2012-03-01 01:00:00  2012      3    1  01:00                    -5.7   \n",
        "2012-03-01 02:00:00  2012      3    1  02:00                    -5.4   \n",
        "2012-03-01 03:00:00  2012      3    1  03:00                    -4.7   \n",
        "2012-03-01 04:00:00  2012      3    1  04:00                    -5.4   \n",
        "\n",
        "                     Dew Point Temp (\u00b0C)  Rel Hum (%)  Wind Spd (km/h)  \\\n",
        "Date/Time                                                                \n",
        "2012-03-01 00:00:00                 -9.7           72               24   \n",
        "2012-03-01 01:00:00                 -8.7           79               26   \n",
        "2012-03-01 02:00:00                 -8.3           80               28   \n",
        "2012-03-01 03:00:00                 -7.7           79               28   \n",
        "2012-03-01 04:00:00                 -7.8           83               35   \n",
        "\n",
        "                     Visibility (km)  Stn Press (kPa) Weather  \n",
        "Date/Time                                                      \n",
        "2012-03-01 00:00:00              4.0           100.97    Snow  \n",
        "2012-03-01 01:00:00              2.4           100.87    Snow  \n",
        "2012-03-01 02:00:00              4.8           100.80    Snow  \n",
        "2012-03-01 03:00:00              4.0           100.69    Snow  \n",
        "2012-03-01 04:00:00              1.6           100.62    Snow  "
       ]
      }
     ],
     "prompt_number": 14
    },
    {
     "cell_type": "markdown",
     "metadata": {},
     "source": [
      "The Year/Month/Day/Time columns are redundant, though, and the Data Quality column doesn't look too useful. Let's get rid of those.\n",
      "\n",
      "The `axis=1` argument means \"Drop columns\", like before. The default for operations like `dropna` and `drop` is always to operate on rows."
     ]
    },
    {
     "cell_type": "code",
     "collapsed": false,
     "input": [
      "weather_mar2012 = weather_mar2012.drop(['Year', 'Month', 'Day', 'Time', 'Data Quality'], axis=1)\n",
      "weather_mar2012[:5]"
     ],
     "language": "python",
     "metadata": {},
     "outputs": [
      {
       "html": [
        "<div style=\"max-height:1000px;max-width:1500px;overflow:auto;\">\n",
        "<table border=\"1\" class=\"dataframe\">\n",
        "  <thead>\n",
        "    <tr style=\"text-align: right;\">\n",
        "      <th></th>\n",
        "      <th>Temp (\u00b0C)</th>\n",
        "      <th>Dew Point Temp (\u00b0C)</th>\n",
        "      <th>Rel Hum (%)</th>\n",
        "      <th>Wind Spd (km/h)</th>\n",
        "      <th>Visibility (km)</th>\n",
        "      <th>Stn Press (kPa)</th>\n",
        "      <th>Weather</th>\n",
        "    </tr>\n",
        "    <tr>\n",
        "      <th>Date/Time</th>\n",
        "      <th></th>\n",
        "      <th></th>\n",
        "      <th></th>\n",
        "      <th></th>\n",
        "      <th></th>\n",
        "      <th></th>\n",
        "      <th></th>\n",
        "    </tr>\n",
        "  </thead>\n",
        "  <tbody>\n",
        "    <tr>\n",
        "      <th>2012-03-01 00:00:00</th>\n",
        "      <td>-5.5</td>\n",
        "      <td>-9.7</td>\n",
        "      <td> 72</td>\n",
        "      <td> 24</td>\n",
        "      <td> 4.0</td>\n",
        "      <td> 100.97</td>\n",
        "      <td> Snow</td>\n",
        "    </tr>\n",
        "    <tr>\n",
        "      <th>2012-03-01 01:00:00</th>\n",
        "      <td>-5.7</td>\n",
        "      <td>-8.7</td>\n",
        "      <td> 79</td>\n",
        "      <td> 26</td>\n",
        "      <td> 2.4</td>\n",
        "      <td> 100.87</td>\n",
        "      <td> Snow</td>\n",
        "    </tr>\n",
        "    <tr>\n",
        "      <th>2012-03-01 02:00:00</th>\n",
        "      <td>-5.4</td>\n",
        "      <td>-8.3</td>\n",
        "      <td> 80</td>\n",
        "      <td> 28</td>\n",
        "      <td> 4.8</td>\n",
        "      <td> 100.80</td>\n",
        "      <td> Snow</td>\n",
        "    </tr>\n",
        "    <tr>\n",
        "      <th>2012-03-01 03:00:00</th>\n",
        "      <td>-4.7</td>\n",
        "      <td>-7.7</td>\n",
        "      <td> 79</td>\n",
        "      <td> 28</td>\n",
        "      <td> 4.0</td>\n",
        "      <td> 100.69</td>\n",
        "      <td> Snow</td>\n",
        "    </tr>\n",
        "    <tr>\n",
        "      <th>2012-03-01 04:00:00</th>\n",
        "      <td>-5.4</td>\n",
        "      <td>-7.8</td>\n",
        "      <td> 83</td>\n",
        "      <td> 35</td>\n",
        "      <td> 1.6</td>\n",
        "      <td> 100.62</td>\n",
        "      <td> Snow</td>\n",
        "    </tr>\n",
        "  </tbody>\n",
        "</table>\n",
        "</div>"
       ],
       "metadata": {},
       "output_type": "pyout",
       "prompt_number": 16,
       "text": [
        "                     Temp (\u00b0C)  Dew Point Temp (\u00b0C)  Rel Hum (%)  \\\n",
        "Date/Time                                                          \n",
        "2012-03-01 00:00:00       -5.5                 -9.7           72   \n",
        "2012-03-01 01:00:00       -5.7                 -8.7           79   \n",
        "2012-03-01 02:00:00       -5.4                 -8.3           80   \n",
        "2012-03-01 03:00:00       -4.7                 -7.7           79   \n",
        "2012-03-01 04:00:00       -5.4                 -7.8           83   \n",
        "\n",
        "                     Wind Spd (km/h)  Visibility (km)  Stn Press (kPa) Weather  \n",
        "Date/Time                                                                       \n",
        "2012-03-01 00:00:00               24              4.0           100.97    Snow  \n",
        "2012-03-01 01:00:00               26              2.4           100.87    Snow  \n",
        "2012-03-01 02:00:00               28              4.8           100.80    Snow  \n",
        "2012-03-01 03:00:00               28              4.0           100.69    Snow  \n",
        "2012-03-01 04:00:00               35              1.6           100.62    Snow  "
       ]
      }
     ],
     "prompt_number": 16
    },
    {
     "cell_type": "markdown",
     "metadata": {},
     "source": [
      "Awesome! We now only have the relevant columns, and it's much more manageable. We can try to graph the temperature throughout the month now:"
     ]
    },
    {
     "cell_type": "code",
     "collapsed": false,
     "input": [
      "weather_mar2012['Temp (\u00b0C)']"
     ],
     "language": "python",
     "metadata": {},
     "outputs": [
      {
       "ename": "KeyError",
       "evalue": "u'no item named Temp (\\xb0C)'",
       "output_type": "pyerr",
       "traceback": [
        "\u001b[1;31m---------------------------------------------------------------------------\u001b[0m\n\u001b[1;31mKeyError\u001b[0m                                  Traceback (most recent call last)",
        "\u001b[1;32m<ipython-input-20-e61e37644670>\u001b[0m in \u001b[0;36m<module>\u001b[1;34m()\u001b[0m\n\u001b[1;32m----> 1\u001b[1;33m \u001b[0mweather_mar2012\u001b[0m\u001b[1;33m[\u001b[0m\u001b[1;34m'Temp (\u00b0C)'\u001b[0m\u001b[1;33m]\u001b[0m\u001b[1;33m\u001b[0m\u001b[0m\n\u001b[0m",
        "\u001b[1;32m/opt/anaconda/lib/python2.7/site-packages/pandas/core/frame.pyc\u001b[0m in \u001b[0;36m__getitem__\u001b[1;34m(self, key)\u001b[0m\n\u001b[0;32m   2001\u001b[0m             \u001b[1;31m# get column\u001b[0m\u001b[1;33m\u001b[0m\u001b[1;33m\u001b[0m\u001b[0m\n\u001b[0;32m   2002\u001b[0m             \u001b[1;32mif\u001b[0m \u001b[0mself\u001b[0m\u001b[1;33m.\u001b[0m\u001b[0mcolumns\u001b[0m\u001b[1;33m.\u001b[0m\u001b[0mis_unique\u001b[0m\u001b[1;33m:\u001b[0m\u001b[1;33m\u001b[0m\u001b[0m\n\u001b[1;32m-> 2003\u001b[1;33m                 \u001b[1;32mreturn\u001b[0m \u001b[0mself\u001b[0m\u001b[1;33m.\u001b[0m\u001b[0m_get_item_cache\u001b[0m\u001b[1;33m(\u001b[0m\u001b[0mkey\u001b[0m\u001b[1;33m)\u001b[0m\u001b[1;33m\u001b[0m\u001b[0m\n\u001b[0m\u001b[0;32m   2004\u001b[0m \u001b[1;33m\u001b[0m\u001b[0m\n\u001b[0;32m   2005\u001b[0m             \u001b[1;31m# duplicate columns\u001b[0m\u001b[1;33m\u001b[0m\u001b[1;33m\u001b[0m\u001b[0m\n",
        "\u001b[1;32m/opt/anaconda/lib/python2.7/site-packages/pandas/core/generic.pyc\u001b[0m in \u001b[0;36m_get_item_cache\u001b[1;34m(self, item)\u001b[0m\n\u001b[0;32m    665\u001b[0m             \u001b[1;32mreturn\u001b[0m \u001b[0mcache\u001b[0m\u001b[1;33m[\u001b[0m\u001b[0mitem\u001b[0m\u001b[1;33m]\u001b[0m\u001b[1;33m\u001b[0m\u001b[0m\n\u001b[0;32m    666\u001b[0m         \u001b[1;32mexcept\u001b[0m \u001b[0mException\u001b[0m\u001b[1;33m:\u001b[0m\u001b[1;33m\u001b[0m\u001b[0m\n\u001b[1;32m--> 667\u001b[1;33m             \u001b[0mvalues\u001b[0m \u001b[1;33m=\u001b[0m \u001b[0mself\u001b[0m\u001b[1;33m.\u001b[0m\u001b[0m_data\u001b[0m\u001b[1;33m.\u001b[0m\u001b[0mget\u001b[0m\u001b[1;33m(\u001b[0m\u001b[0mitem\u001b[0m\u001b[1;33m)\u001b[0m\u001b[1;33m\u001b[0m\u001b[0m\n\u001b[0m\u001b[0;32m    668\u001b[0m             \u001b[0mres\u001b[0m \u001b[1;33m=\u001b[0m \u001b[0mself\u001b[0m\u001b[1;33m.\u001b[0m\u001b[0m_box_item_values\u001b[0m\u001b[1;33m(\u001b[0m\u001b[0mitem\u001b[0m\u001b[1;33m,\u001b[0m \u001b[0mvalues\u001b[0m\u001b[1;33m)\u001b[0m\u001b[1;33m\u001b[0m\u001b[0m\n\u001b[0;32m    669\u001b[0m             \u001b[0mcache\u001b[0m\u001b[1;33m[\u001b[0m\u001b[0mitem\u001b[0m\u001b[1;33m]\u001b[0m \u001b[1;33m=\u001b[0m \u001b[0mres\u001b[0m\u001b[1;33m\u001b[0m\u001b[0m\n",
        "\u001b[1;32m/opt/anaconda/lib/python2.7/site-packages/pandas/core/internals.pyc\u001b[0m in \u001b[0;36mget\u001b[1;34m(self, item)\u001b[0m\n\u001b[0;32m   1653\u001b[0m     \u001b[1;32mdef\u001b[0m \u001b[0mget\u001b[0m\u001b[1;33m(\u001b[0m\u001b[0mself\u001b[0m\u001b[1;33m,\u001b[0m \u001b[0mitem\u001b[0m\u001b[1;33m)\u001b[0m\u001b[1;33m:\u001b[0m\u001b[1;33m\u001b[0m\u001b[0m\n\u001b[0;32m   1654\u001b[0m         \u001b[1;32mif\u001b[0m \u001b[0mself\u001b[0m\u001b[1;33m.\u001b[0m\u001b[0mitems\u001b[0m\u001b[1;33m.\u001b[0m\u001b[0mis_unique\u001b[0m\u001b[1;33m:\u001b[0m\u001b[1;33m\u001b[0m\u001b[0m\n\u001b[1;32m-> 1655\u001b[1;33m             \u001b[0m_\u001b[0m\u001b[1;33m,\u001b[0m \u001b[0mblock\u001b[0m \u001b[1;33m=\u001b[0m \u001b[0mself\u001b[0m\u001b[1;33m.\u001b[0m\u001b[0m_find_block\u001b[0m\u001b[1;33m(\u001b[0m\u001b[0mitem\u001b[0m\u001b[1;33m)\u001b[0m\u001b[1;33m\u001b[0m\u001b[0m\n\u001b[0m\u001b[0;32m   1656\u001b[0m             \u001b[1;32mreturn\u001b[0m \u001b[0mblock\u001b[0m\u001b[1;33m.\u001b[0m\u001b[0mget\u001b[0m\u001b[1;33m(\u001b[0m\u001b[0mitem\u001b[0m\u001b[1;33m)\u001b[0m\u001b[1;33m\u001b[0m\u001b[0m\n\u001b[0;32m   1657\u001b[0m         \u001b[1;32melse\u001b[0m\u001b[1;33m:\u001b[0m\u001b[1;33m\u001b[0m\u001b[0m\n",
        "\u001b[1;32m/opt/anaconda/lib/python2.7/site-packages/pandas/core/internals.pyc\u001b[0m in \u001b[0;36m_find_block\u001b[1;34m(self, item)\u001b[0m\n\u001b[0;32m   1933\u001b[0m \u001b[1;33m\u001b[0m\u001b[0m\n\u001b[0;32m   1934\u001b[0m     \u001b[1;32mdef\u001b[0m \u001b[0m_find_block\u001b[0m\u001b[1;33m(\u001b[0m\u001b[0mself\u001b[0m\u001b[1;33m,\u001b[0m \u001b[0mitem\u001b[0m\u001b[1;33m)\u001b[0m\u001b[1;33m:\u001b[0m\u001b[1;33m\u001b[0m\u001b[0m\n\u001b[1;32m-> 1935\u001b[1;33m         \u001b[0mself\u001b[0m\u001b[1;33m.\u001b[0m\u001b[0m_check_have\u001b[0m\u001b[1;33m(\u001b[0m\u001b[0mitem\u001b[0m\u001b[1;33m)\u001b[0m\u001b[1;33m\u001b[0m\u001b[0m\n\u001b[0m\u001b[0;32m   1936\u001b[0m         \u001b[1;32mfor\u001b[0m \u001b[0mi\u001b[0m\u001b[1;33m,\u001b[0m \u001b[0mblock\u001b[0m \u001b[1;32min\u001b[0m \u001b[0menumerate\u001b[0m\u001b[1;33m(\u001b[0m\u001b[0mself\u001b[0m\u001b[1;33m.\u001b[0m\u001b[0mblocks\u001b[0m\u001b[1;33m)\u001b[0m\u001b[1;33m:\u001b[0m\u001b[1;33m\u001b[0m\u001b[0m\n\u001b[0;32m   1937\u001b[0m             \u001b[1;32mif\u001b[0m \u001b[0mitem\u001b[0m \u001b[1;32min\u001b[0m \u001b[0mblock\u001b[0m\u001b[1;33m:\u001b[0m\u001b[1;33m\u001b[0m\u001b[0m\n",
        "\u001b[1;32m/opt/anaconda/lib/python2.7/site-packages/pandas/core/internals.pyc\u001b[0m in \u001b[0;36m_check_have\u001b[1;34m(self, item)\u001b[0m\n\u001b[0;32m   1940\u001b[0m     \u001b[1;32mdef\u001b[0m \u001b[0m_check_have\u001b[0m\u001b[1;33m(\u001b[0m\u001b[0mself\u001b[0m\u001b[1;33m,\u001b[0m \u001b[0mitem\u001b[0m\u001b[1;33m)\u001b[0m\u001b[1;33m:\u001b[0m\u001b[1;33m\u001b[0m\u001b[0m\n\u001b[0;32m   1941\u001b[0m         \u001b[1;32mif\u001b[0m \u001b[0mitem\u001b[0m \u001b[1;32mnot\u001b[0m \u001b[1;32min\u001b[0m \u001b[0mself\u001b[0m\u001b[1;33m.\u001b[0m\u001b[0mitems\u001b[0m\u001b[1;33m:\u001b[0m\u001b[1;33m\u001b[0m\u001b[0m\n\u001b[1;32m-> 1942\u001b[1;33m             \u001b[1;32mraise\u001b[0m \u001b[0mKeyError\u001b[0m\u001b[1;33m(\u001b[0m\u001b[1;34m'no item named %s'\u001b[0m \u001b[1;33m%\u001b[0m \u001b[0mcom\u001b[0m\u001b[1;33m.\u001b[0m\u001b[0mpprint_thing\u001b[0m\u001b[1;33m(\u001b[0m\u001b[0mitem\u001b[0m\u001b[1;33m)\u001b[0m\u001b[1;33m)\u001b[0m\u001b[1;33m\u001b[0m\u001b[0m\n\u001b[0m\u001b[0;32m   1943\u001b[0m \u001b[1;33m\u001b[0m\u001b[0m\n\u001b[0;32m   1944\u001b[0m     \u001b[1;32mdef\u001b[0m \u001b[0mreindex_axis\u001b[0m\u001b[1;33m(\u001b[0m\u001b[0mself\u001b[0m\u001b[1;33m,\u001b[0m \u001b[0mnew_axis\u001b[0m\u001b[1;33m,\u001b[0m \u001b[0mmethod\u001b[0m\u001b[1;33m=\u001b[0m\u001b[0mNone\u001b[0m\u001b[1;33m,\u001b[0m \u001b[0maxis\u001b[0m\u001b[1;33m=\u001b[0m\u001b[1;36m0\u001b[0m\u001b[1;33m,\u001b[0m \u001b[0mcopy\u001b[0m\u001b[1;33m=\u001b[0m\u001b[0mTrue\u001b[0m\u001b[1;33m)\u001b[0m\u001b[1;33m:\u001b[0m\u001b[1;33m\u001b[0m\u001b[0m\n",
        "\u001b[1;31mKeyError\u001b[0m: u'no item named Temp (\\xb0C)'"
       ]
      }
     ],
     "prompt_number": 20
    },
    {
     "cell_type": "markdown",
     "metadata": {},
     "source": [
      "Ack, that didn't work. Why not? Let's look at the columns:"
     ]
    },
    {
     "cell_type": "code",
     "collapsed": false,
     "input": [
      "weather_mar2012.columns"
     ],
     "language": "python",
     "metadata": {},
     "outputs": [
      {
       "metadata": {},
       "output_type": "pyout",
       "prompt_number": 21,
       "text": [
        "Index([u'Temp (\u00b0C)', u'Dew Point Temp (\u00b0C)', u'Rel Hum (%)', u'Wind Spd (km/h)', u'Visibility (km)', u'Stn Press (kPa)', u'Weather'], dtype=object)"
       ]
      }
     ],
     "prompt_number": 21
    },
    {
     "cell_type": "markdown",
     "metadata": {},
     "source": [
      "Huh, there's a weird \u00b0 character in there. Let's find out what that character is, and get rid of it."
     ]
    },
    {
     "cell_type": "code",
     "collapsed": false,
     "input": [
      "degree_char = weather_mar2012.columns[0][6]\n",
      "degree_char"
     ],
     "language": "python",
     "metadata": {},
     "outputs": [
      {
       "metadata": {},
       "output_type": "pyout",
       "prompt_number": 25,
       "text": [
        "u'\\xb0'"
       ]
      }
     ],
     "prompt_number": 25
    },
    {
     "cell_type": "code",
     "collapsed": false,
     "input": [
      "weather_mar2012.columns = [s.replace(degree_char, '') for s in weather_mar2012.columns]"
     ],
     "language": "python",
     "metadata": {},
     "outputs": [],
     "prompt_number": 26
    },
    {
     "cell_type": "markdown",
     "metadata": {},
     "source": [
      "Now that we've removed the problematic character, we can plot the temperature in March! Notice how it goes up to 25\u00b0 C in the middle there? That was a big deal. It was March, and people were wearing shorts outside. \n",
      "\n",
      "And I was out of town and I missed it. Still sad, humans."
     ]
    },
    {
     "cell_type": "code",
     "collapsed": false,
     "input": [
      "weather_mar2012[u'Temp (C)'].plot()"
     ],
     "language": "python",
     "metadata": {},
     "outputs": [
      {
       "metadata": {},
       "output_type": "pyout",
       "prompt_number": 31,
       "text": [
        "<matplotlib.axes.AxesSubplot at 0x44ce2d0>"
       ]
      },
      {
       "metadata": {},
       "output_type": "display_data",
       "png": "[encoded data removed]",
       "text": [
        "<matplotlib.figure.Figure at 0x44f7b10>"
       ]
      }
     ],
     "prompt_number": 31
    },
    {
     "cell_type": "markdown",
     "metadata": {},
     "source": [
      "# 2.3 Plotting the temperature by hour of day"
     ]
    },
    {
     "cell_type": "markdown",
     "metadata": {},
     "source": [
      "This one's just for fun -- we've already done this before, using groupby and aggregate! We will learn whether or not it gets colder at night. Well, obviously. But let's do it anyway."
     ]
    },
    {
     "cell_type": "code",
     "collapsed": false,
     "input": [
      "temperatures = weather_mar2012[[u'Temp (C)']]\n",
      "temperatures['Hour'] = weather_mar2012.index.hour\n",
      "temperatures.groupby('Hour').aggregate(np.median).plot()"
     ],
     "language": "python",
     "metadata": {},
     "outputs": [
      {
       "metadata": {},
       "output_type": "pyout",
       "prompt_number": 32,
       "text": [
        "<matplotlib.axes.AxesSubplot at 0x41f4750>"
       ]
      },
      {
       "metadata": {},
       "output_type": "display_data",
       "png": "[encoded data removed]",
       "text": [
        "<matplotlib.figure.Figure at 0x44f7990>"
       ]
      }
     ],
     "prompt_number": 32
    },
    {
     "cell_type": "markdown",
     "metadata": {},
     "source": [
      "So it looks like the time with the highest median temperature is 2pm. Neat."
     ]
    },
    {
     "cell_type": "markdown",
     "metadata": {},
     "source": [
      "# 5.3 Getting the whole year of data"
     ]
    },
    {
     "cell_type": "markdown",
     "metadata": {},
     "source": [
      "Okay, so what if we want the data for the whole year? Ideally the API would just let us download that, but I couldn't figure out a way to do that.\n",
      "\n",
      "First, let's put our work from above into a function that gets the weather for a given month. \n",
      "\n",
      "I noticed that there's an irritating bug where when I ask for January, it gives me data for the previous year, so we'll fix that too. [no, really. You can check =)]"
     ]
    },
    {
     "cell_type": "code",
     "collapsed": false,
     "input": [
      "def download_weather_month(year, month):\n",
      "    if month == 1:\n",
      "        year += 1\n",
      "    url = url_template.format(year=year, month=month)\n",
      "    weather_data = pd.read_csv(url, skiprows=16, index_col='Date/Time', parse_dates=True)\n",
      "    weather_data = weather_data.dropna(axis=1)\n",
      "    weather_data.columns = [col.replace('\\xb0', '') for col in weather_data.columns]\n",
      "    weather_data = weather_data.drop(['Year', 'Day', 'Month', 'Time', 'Data Quality'], axis=1)\n",
      "    return weather_data"
     ],
     "language": "python",
     "metadata": {},
     "outputs": [],
     "prompt_number": 52
    },
    {
     "cell_type": "markdown",
     "metadata": {},
     "source": [
      "We can test that this function does the right thing:"
     ]
    },
    {
     "cell_type": "code",
     "collapsed": false,
     "input": [
      "download_weather_month(2012, 1)[:5]"
     ],
     "language": "python",
     "metadata": {},
     "outputs": [
      {
       "html": [
        "<div style=\"max-height:1000px;max-width:1500px;overflow:auto;\">\n",
        "<table border=\"1\" class=\"dataframe\">\n",
        "  <thead>\n",
        "    <tr style=\"text-align: right;\">\n",
        "      <th></th>\n",
        "      <th>Temp (C)</th>\n",
        "      <th>Dew Point Temp (C)</th>\n",
        "      <th>Rel Hum (%)</th>\n",
        "      <th>Wind Spd (km/h)</th>\n",
        "      <th>Visibility (km)</th>\n",
        "      <th>Stn Press (kPa)</th>\n",
        "      <th>Weather</th>\n",
        "    </tr>\n",
        "    <tr>\n",
        "      <th>Date/Time</th>\n",
        "      <th></th>\n",
        "      <th></th>\n",
        "      <th></th>\n",
        "      <th></th>\n",
        "      <th></th>\n",
        "      <th></th>\n",
        "      <th></th>\n",
        "    </tr>\n",
        "  </thead>\n",
        "  <tbody>\n",
        "    <tr>\n",
        "      <th>2012-01-01 00:00:00</th>\n",
        "      <td>-1.8</td>\n",
        "      <td>-3.9</td>\n",
        "      <td> 86</td>\n",
        "      <td> 4</td>\n",
        "      <td> 8.0</td>\n",
        "      <td> 101.24</td>\n",
        "      <td>                  Fog</td>\n",
        "    </tr>\n",
        "    <tr>\n",
        "      <th>2012-01-01 01:00:00</th>\n",
        "      <td>-1.8</td>\n",
        "      <td>-3.7</td>\n",
        "      <td> 87</td>\n",
        "      <td> 4</td>\n",
        "      <td> 8.0</td>\n",
        "      <td> 101.24</td>\n",
        "      <td>                  Fog</td>\n",
        "    </tr>\n",
        "    <tr>\n",
        "      <th>2012-01-01 02:00:00</th>\n",
        "      <td>-1.8</td>\n",
        "      <td>-3.4</td>\n",
        "      <td> 89</td>\n",
        "      <td> 7</td>\n",
        "      <td> 4.0</td>\n",
        "      <td> 101.26</td>\n",
        "      <td> Freezing Drizzle,Fog</td>\n",
        "    </tr>\n",
        "    <tr>\n",
        "      <th>2012-01-01 03:00:00</th>\n",
        "      <td>-1.5</td>\n",
        "      <td>-3.2</td>\n",
        "      <td> 88</td>\n",
        "      <td> 6</td>\n",
        "      <td> 4.0</td>\n",
        "      <td> 101.27</td>\n",
        "      <td> Freezing Drizzle,Fog</td>\n",
        "    </tr>\n",
        "    <tr>\n",
        "      <th>2012-01-01 04:00:00</th>\n",
        "      <td>-1.5</td>\n",
        "      <td>-3.3</td>\n",
        "      <td> 88</td>\n",
        "      <td> 7</td>\n",
        "      <td> 4.8</td>\n",
        "      <td> 101.23</td>\n",
        "      <td>                  Fog</td>\n",
        "    </tr>\n",
        "  </tbody>\n",
        "</table>\n",
        "</div>"
       ],
       "metadata": {},
       "output_type": "pyout",
       "prompt_number": 54,
       "text": [
        "                     Temp (C)  Dew Point Temp (C)  Rel Hum (%)  \\\n",
        "Date/Time                                                        \n",
        "2012-01-01 00:00:00      -1.8                -3.9           86   \n",
        "2012-01-01 01:00:00      -1.8                -3.7           87   \n",
        "2012-01-01 02:00:00      -1.8                -3.4           89   \n",
        "2012-01-01 03:00:00      -1.5                -3.2           88   \n",
        "2012-01-01 04:00:00      -1.5                -3.3           88   \n",
        "\n",
        "                     Wind Spd (km/h)  Visibility (km)  Stn Press (kPa)  \\\n",
        "Date/Time                                                                \n",
        "2012-01-01 00:00:00                4              8.0           101.24   \n",
        "2012-01-01 01:00:00                4              8.0           101.24   \n",
        "2012-01-01 02:00:00                7              4.0           101.26   \n",
        "2012-01-01 03:00:00                6              4.0           101.27   \n",
        "2012-01-01 04:00:00                7              4.8           101.23   \n",
        "\n",
        "                                  Weather  \n",
        "Date/Time                                  \n",
        "2012-01-01 00:00:00                   Fog  \n",
        "2012-01-01 01:00:00                   Fog  \n",
        "2012-01-01 02:00:00  Freezing Drizzle,Fog  \n",
        "2012-01-01 03:00:00  Freezing Drizzle,Fog  \n",
        "2012-01-01 04:00:00                   Fog  "
       ]
      }
     ],
     "prompt_number": 54
    },
    {
     "cell_type": "markdown",
     "metadata": {},
     "source": [
      "Now we can get all the months at once. This will take a little while to run."
     ]
    },
    {
     "cell_type": "code",
     "collapsed": false,
     "input": [
      "data_by_month = [download_weather_month(2012, i) for i in range(1, 13)]"
     ],
     "language": "python",
     "metadata": {},
     "outputs": [],
     "prompt_number": 37
    },
    {
     "cell_type": "markdown",
     "metadata": {},
     "source": [
      "Once we have this, it's easy to concatenate all the dataframes together into one big dataframe using `pd.concat`. And now we have the whole year's data!"
     ]
    },
    {
     "cell_type": "code",
     "collapsed": false,
     "input": [
      "weather_2012 = pd.concat(data_by_month)\n",
      "weather_2012"
     ],
     "language": "python",
     "metadata": {},
     "outputs": [
      {
       "html": [
        "<pre>\n",
        "&lt;class 'pandas.core.frame.DataFrame'&gt;\n",
        "DatetimeIndex: 8784 entries, 2012-01-01 00:00:00 to 2012-12-31 23:00:00\n",
        "Data columns (total 7 columns):\n",
        "Temp (C)              8784  non-null values\n",
        "Dew Point Temp (C)    8784  non-null values\n",
        "Rel Hum (%)           8784  non-null values\n",
        "Wind Spd (km/h)       8784  non-null values\n",
        "Visibility (km)       8784  non-null values\n",
        "Stn Press (kPa)       8784  non-null values\n",
        "Weather               8784  non-null values\n",
        "dtypes: float64(4), int64(2), object(1)\n",
        "</pre>"
       ],
       "metadata": {},
       "output_type": "pyout",
       "prompt_number": 57,
       "text": [
        "<class 'pandas.core.frame.DataFrame'>\n",
        "DatetimeIndex: 8784 entries, 2012-01-01 00:00:00 to 2012-12-31 23:00:00\n",
        "Data columns (total 7 columns):\n",
        "Temp (C)              8784  non-null values\n",
        "Dew Point Temp (C)    8784  non-null values\n",
        "Rel Hum (%)           8784  non-null values\n",
        "Wind Spd (km/h)       8784  non-null values\n",
        "Visibility (km)       8784  non-null values\n",
        "Stn Press (kPa)       8784  non-null values\n",
        "Weather               8784  non-null values\n",
        "dtypes: float64(4), int64(2), object(1)"
       ]
      }
     ],
     "prompt_number": 57
    },
    {
     "cell_type": "markdown",
     "metadata": {},
     "source": [
      "# 5.4 Saving to a CSV"
     ]
    },
    {
     "cell_type": "markdown",
     "metadata": {},
     "source": [
      "It's slow and unnecessary to download the data every time, so let's save our dataframe:"
     ]
    },
    {
     "cell_type": "code",
     "collapsed": false,
     "input": [
      "weather_2012.to_csv('../data/weather_2012.csv')"
     ],
     "language": "python",
     "metadata": {},
     "outputs": [],
     "prompt_number": 58
    },
    {
     "cell_type": "markdown",
     "metadata": {},
     "source": [
      "<style>\n",
      "    @font-face {\n",
      "        font-family: \"Computer Modern\";\n",
      "        src: url('http://mirrors.ctan.org/fonts/cm-unicode/fonts/otf/cmunss.otf');\n",
      "    }\n",
      "    div.cell{\n",
      "        width:800px;\n",
      "        margin-left:16% !important;\n",
      "        margin-right:auto;\n",
      "    }\n",
      "    h1 {\n",
      "        font-family: Helvetica, serif;\n",
      "    }\n",
      "    h4{\n",
      "        margin-top:12px;\n",
      "        margin-bottom: 3px;\n",
      "       }\n",
      "    div.text_cell_render{\n",
      "        font-family: Computer Modern, \"Helvetica Neue\", Arial, Helvetica, Geneva, sans-serif;\n",
      "        line-height: 145%;\n",
      "        font-size: 130%;\n",
      "        width:800px;\n",
      "        margin-left:auto;\n",
      "        margin-right:auto;\n",
      "    }\n",
      "    .CodeMirror{\n",
      "            font-family: \"Source Code Pro\", source-code-pro,Consolas, monospace;\n",
      "    }\n",
      "    .text_cell_render h5 {\n",
      "        font-weight: 300;\n",
      "        font-size: 22pt;\n",
      "        color: #4057A1;\n",
      "        font-style: italic;\n",
      "        margin-bottom: .5em;\n",
      "        margin-top: 0.5em;\n",
      "        display: block;\n",
      "    }\n",
      "    \n",
      "    .warning{\n",
      "        color: rgb( 240, 20, 20 )\n",
      "        }  "
     ]
    }
   ],
   "metadata": {}
  }
 ]
}