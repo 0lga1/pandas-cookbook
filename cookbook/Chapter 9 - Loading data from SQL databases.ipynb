{
 "metadata": {
  "name": ""
 },
 "nbformat": 3,
 "nbformat_minor": 0,
 "worksheets": [
  {
   "cells": [
    {
     "cell_type": "code",
     "collapsed": false,
     "input": [
      "def try_import(mod):\n",
      "    try:\n",
      "        return __import__(mod)\n",
      "    except ImportError:\n",
      "        return None\n",
      "from IPython.display import display, HTML\n",
      "import pandas as pd\n",
      "import csv\n",
      "import sqlite3\n",
      "psycopg2 = try_import(\"psycopg2\")\n",
      "MySQLdb = try_import(\"MySQLdb\")"
     ],
     "language": "python",
     "metadata": {},
     "outputs": [],
     "prompt_number": 1
    },
    {
     "cell_type": "markdown",
     "metadata": {},
     "source": [
      "# 9.1 Reading data from SQL databases"
     ]
    },
    {
     "cell_type": "markdown",
     "metadata": {},
     "source": [
      "Data can be read from SQL databases using the `read_sql` function: `read_sql(sql, con, index_col=None, coerce_float=True, params=None)`."
     ]
    },
    {
     "cell_type": "code",
     "collapsed": false,
     "input": [
      "con = sqlite3.connect(\":memory:\")\n",
      "con.executescript(\"\"\"\n",
      "    CREATE TABLE cats (\n",
      "        id PRIMARY KEY,\n",
      "        name,\n",
      "        breed,\n",
      "        age\n",
      "    );\n",
      "    INSERT INTO cats VALUES(1, 'Alex', 'Tabby', 3);\n",
      "    INSERT INTO cats VALUES(2, 'Cleo', 'Sphynx', 8);\n",
      "    INSERT INTO cats VALUES(3, 'Fluffy', 'Persian', 5);\n",
      "\"\"\");"
     ],
     "language": "python",
     "metadata": {},
     "outputs": [],
     "prompt_number": 2
    },
    {
     "cell_type": "markdown",
     "metadata": {},
     "source": [
      "The `read_sql` function will automatically convert SQL column names to DataFrame column names:"
     ]
    },
    {
     "cell_type": "code",
     "collapsed": false,
     "input": [
      "pd.read_sql(\"\"\"\n",
      "    SELECT\n",
      "        *,\n",
      "        RANDOM() AS example_column_alias\n",
      "    FROM cats\n",
      "\"\"\", con)"
     ],
     "language": "python",
     "metadata": {},
     "outputs": [
      {
       "html": [
        "<div style=\"max-height:1000px;max-width:1500px;overflow:auto;\">\n",
        "<table border=\"1\" class=\"dataframe\">\n",
        "  <thead>\n",
        "    <tr style=\"text-align: right;\">\n",
        "      <th></th>\n",
        "      <th>id</th>\n",
        "      <th>name</th>\n",
        "      <th>breed</th>\n",
        "      <th>age</th>\n",
        "      <th>example_column_alias</th>\n",
        "    </tr>\n",
        "  </thead>\n",
        "  <tbody>\n",
        "    <tr>\n",
        "      <th>0</th>\n",
        "      <td> 1</td>\n",
        "      <td>   Alex</td>\n",
        "      <td>   Tabby</td>\n",
        "      <td> 3</td>\n",
        "      <td> 1021455381140874868</td>\n",
        "    </tr>\n",
        "    <tr>\n",
        "      <th>1</th>\n",
        "      <td> 2</td>\n",
        "      <td>   Cleo</td>\n",
        "      <td>  Sphynx</td>\n",
        "      <td> 8</td>\n",
        "      <td>-4831495469385484684</td>\n",
        "    </tr>\n",
        "    <tr>\n",
        "      <th>2</th>\n",
        "      <td> 3</td>\n",
        "      <td> Fluffy</td>\n",
        "      <td> Persian</td>\n",
        "      <td> 5</td>\n",
        "      <td>-1239987573519196646</td>\n",
        "    </tr>\n",
        "  </tbody>\n",
        "</table>\n",
        "</div>"
       ],
       "metadata": {},
       "output_type": "pyout",
       "prompt_number": 3,
       "text": [
        "   id    name    breed  age  example_column_alias\n",
        "0   1    Alex    Tabby    3   1021455381140874868\n",
        "1   2    Cleo   Sphynx    8  -4831495469385484684\n",
        "2   3  Fluffy  Persian    5  -1239987573519196646"
       ]
      }
     ],
     "prompt_number": 3
    },
    {
     "cell_type": "markdown",
     "metadata": {},
     "source": [
      "But note that the index column(s) must be explicitly specified:"
     ]
    },
    {
     "cell_type": "code",
     "collapsed": false,
     "input": [
      "display(HTML(\"One index column:\"))\n",
      "display(pd.read_sql(\"\"\"\n",
      "    SELECT *\n",
      "    FROM cats\n",
      "\"\"\", con, index_col=\"id\"))\n",
      "\n",
      "display(HTML(\"Multiple index columns:\"))\n",
      "display(pd.read_sql(\"\"\"\n",
      "    SELECT *\n",
      "    FROM cats\n",
      "\"\"\", con, index_col=[\"id\", \"name\"]))"
     ],
     "language": "python",
     "metadata": {},
     "outputs": [
      {
       "html": [
        "One index column:"
       ],
       "metadata": {},
       "output_type": "display_data",
       "text": [
        "<IPython.core.display.HTML at 0x10a123250>"
       ]
      },
      {
       "html": [
        "<div style=\"max-height:1000px;max-width:1500px;overflow:auto;\">\n",
        "<table border=\"1\" class=\"dataframe\">\n",
        "  <thead>\n",
        "    <tr style=\"text-align: right;\">\n",
        "      <th></th>\n",
        "      <th>name</th>\n",
        "      <th>breed</th>\n",
        "      <th>age</th>\n",
        "    </tr>\n",
        "    <tr>\n",
        "      <th>id</th>\n",
        "      <th></th>\n",
        "      <th></th>\n",
        "      <th></th>\n",
        "    </tr>\n",
        "  </thead>\n",
        "  <tbody>\n",
        "    <tr>\n",
        "      <th>1</th>\n",
        "      <td>   Alex</td>\n",
        "      <td>   Tabby</td>\n",
        "      <td> 3</td>\n",
        "    </tr>\n",
        "    <tr>\n",
        "      <th>2</th>\n",
        "      <td>   Cleo</td>\n",
        "      <td>  Sphynx</td>\n",
        "      <td> 8</td>\n",
        "    </tr>\n",
        "    <tr>\n",
        "      <th>3</th>\n",
        "      <td> Fluffy</td>\n",
        "      <td> Persian</td>\n",
        "      <td> 5</td>\n",
        "    </tr>\n",
        "  </tbody>\n",
        "</table>\n",
        "</div>"
       ],
       "metadata": {},
       "output_type": "display_data",
       "text": [
        "      name    breed  age\n",
        "id                      \n",
        "1     Alex    Tabby    3\n",
        "2     Cleo   Sphynx    8\n",
        "3   Fluffy  Persian    5"
       ]
      },
      {
       "html": [
        "Multiple index columns:"
       ],
       "metadata": {},
       "output_type": "display_data",
       "text": [
        "<IPython.core.display.HTML at 0x10a123250>"
       ]
      },
      {
       "html": [
        "<div style=\"max-height:1000px;max-width:1500px;overflow:auto;\">\n",
        "<table border=\"1\" class=\"dataframe\">\n",
        "  <thead>\n",
        "    <tr style=\"text-align: right;\">\n",
        "      <th></th>\n",
        "      <th></th>\n",
        "      <th>breed</th>\n",
        "      <th>age</th>\n",
        "    </tr>\n",
        "    <tr>\n",
        "      <th>id</th>\n",
        "      <th>name</th>\n",
        "      <th></th>\n",
        "      <th></th>\n",
        "    </tr>\n",
        "  </thead>\n",
        "  <tbody>\n",
        "    <tr>\n",
        "      <th>1</th>\n",
        "      <th>Alex</th>\n",
        "      <td>   Tabby</td>\n",
        "      <td> 3</td>\n",
        "    </tr>\n",
        "    <tr>\n",
        "      <th>2</th>\n",
        "      <th>Cleo</th>\n",
        "      <td>  Sphynx</td>\n",
        "      <td> 8</td>\n",
        "    </tr>\n",
        "    <tr>\n",
        "      <th>3</th>\n",
        "      <th>Fluffy</th>\n",
        "      <td> Persian</td>\n",
        "      <td> 5</td>\n",
        "    </tr>\n",
        "  </tbody>\n",
        "</table>\n",
        "</div>"
       ],
       "metadata": {},
       "output_type": "display_data",
       "text": [
        "             breed  age\n",
        "id name                \n",
        "1  Alex      Tabby    3\n",
        "2  Cleo     Sphynx    8\n",
        "3  Fluffy  Persian    5"
       ]
      }
     ],
     "prompt_number": 4
    },
    {
     "cell_type": "markdown",
     "metadata": {},
     "source": [
      "# 9.2 Examples connecting to different databases"
     ]
    },
    {
     "cell_type": "markdown",
     "metadata": {},
     "source": [
      "We'll demonstrate connecting to SQLite, PostgreSQL, and MySQL, then loading data from them. Note that call to `read_sql` is the same for each database; only the process for connecting to the database is different.\n",
      "\n",
      "We'll be using a subset of the weather data from chapter 5:"
     ]
    },
    {
     "cell_type": "code",
     "collapsed": false,
     "input": [
      "def load_example_data(con, primary_key_type=\"SERIAL PRIMARY KEY\",\n",
      "                      param_val=\"%s\"):\n",
      "    cur = con.cursor()\n",
      "    cur.execute(\"DROP TABLE IF EXISTS weather_2012\")\n",
      "    cur.execute(\"\"\"\n",
      "        CREATE TABLE weather_2012 (\n",
      "            id %s,\n",
      "            date_time TIMESTAMP,\n",
      "            temp DOUBLE PRECISION\n",
      "        )\n",
      "    \"\"\" %(primary_key_type, ))\n",
      "    cur.execute(\"BEGIN\")\n",
      "    for idx, row in enumerate(csv.reader(open(\"../data/weather_2012.csv\"))):\n",
      "        if idx == 0:\n",
      "            # Skip the header\n",
      "            continue\n",
      "        if idx > 100:\n",
      "            break\n",
      "        cur.execute(\"\"\"\n",
      "            INSERT INTO weather_2012 (date_time, temp)\n",
      "            VALUES (%s, %s)\n",
      "        \"\"\" %(param_val, param_val), row[:2])\n",
      "    con.commit()"
     ],
     "language": "python",
     "metadata": {},
     "outputs": [],
     "prompt_number": 5
    },
    {
     "cell_type": "markdown",
     "metadata": {},
     "source": [
      "## 9.2.1 Reading data from an SQLite database"
     ]
    },
    {
     "cell_type": "code",
     "collapsed": false,
     "input": [
      "# In this example we'll use an in-memory database, but \":memory:\" could be\n",
      "# replaced with the path to an on-disk SQLite database.\n",
      "con = sqlite3.connect(\":memory:\")\n",
      "\n",
      "load_example_data(con, \"INTEGER PRIMARY KEY AUTOINCREMENT\", \"?\")\n",
      "df = pd.read_sql(\"\"\"\n",
      "    SELECT id, date_time, temp\n",
      "    FROM weather_2012\n",
      "    LIMIT 3\n",
      "\"\"\", con, index_col=\"id\")\n",
      "display(df)"
     ],
     "language": "python",
     "metadata": {},
     "outputs": [
      {
       "html": [
        "<div style=\"max-height:1000px;max-width:1500px;overflow:auto;\">\n",
        "<table border=\"1\" class=\"dataframe\">\n",
        "  <thead>\n",
        "    <tr style=\"text-align: right;\">\n",
        "      <th></th>\n",
        "      <th>date_time</th>\n",
        "      <th>temp</th>\n",
        "    </tr>\n",
        "    <tr>\n",
        "      <th>id</th>\n",
        "      <th></th>\n",
        "      <th></th>\n",
        "    </tr>\n",
        "  </thead>\n",
        "  <tbody>\n",
        "    <tr>\n",
        "      <th>1</th>\n",
        "      <td> 2012-01-01 00:00:00</td>\n",
        "      <td>-1.8</td>\n",
        "    </tr>\n",
        "    <tr>\n",
        "      <th>2</th>\n",
        "      <td> 2012-01-01 01:00:00</td>\n",
        "      <td>-1.8</td>\n",
        "    </tr>\n",
        "    <tr>\n",
        "      <th>3</th>\n",
        "      <td> 2012-01-01 02:00:00</td>\n",
        "      <td>-1.8</td>\n",
        "    </tr>\n",
        "  </tbody>\n",
        "</table>\n",
        "</div>"
       ],
       "metadata": {},
       "output_type": "display_data",
       "text": [
        "              date_time  temp\n",
        "id                           \n",
        "1   2012-01-01 00:00:00  -1.8\n",
        "2   2012-01-01 01:00:00  -1.8\n",
        "3   2012-01-01 02:00:00  -1.8"
       ]
      }
     ],
     "prompt_number": 6
    },
    {
     "cell_type": "markdown",
     "metadata": {},
     "source": [
      "# 9.2.2 Reading data from a PostgreSQL database"
     ]
    },
    {
     "cell_type": "code",
     "collapsed": false,
     "input": [
      "# This example uses psycopg2 to connect to a local PostgreSQL server,\n",
      "# using the default database. For more information on using psycopg2\n",
      "# to connect to PostgreSQL databases, see:\n",
      "# http://initd.org/psycopg/docs/module.html#psycopg2.connect\n",
      "# psycopg2 can be installed with: pip install psycopg2\n",
      "if psycopg2:\n",
      "    con = psycopg2.connect(host=\"localhost\")\n",
      "\n",
      "    load_example_data(con, \"SERIAL PRIMARY KEY\", \"%s\")\n",
      "    df = pd.read_sql(\"\"\"\n",
      "        SELECT id, date_time, temp\n",
      "        FROM weather_2012\n",
      "        LIMIT 3\n",
      "    \"\"\", con, index_col=\"id\")\n",
      "    display(df)"
     ],
     "language": "python",
     "metadata": {},
     "outputs": [
      {
       "html": [
        "<div style=\"max-height:1000px;max-width:1500px;overflow:auto;\">\n",
        "<table border=\"1\" class=\"dataframe\">\n",
        "  <thead>\n",
        "    <tr style=\"text-align: right;\">\n",
        "      <th></th>\n",
        "      <th>date_time</th>\n",
        "      <th>temp</th>\n",
        "    </tr>\n",
        "    <tr>\n",
        "      <th>id</th>\n",
        "      <th></th>\n",
        "      <th></th>\n",
        "    </tr>\n",
        "  </thead>\n",
        "  <tbody>\n",
        "    <tr>\n",
        "      <th>1</th>\n",
        "      <td>2012-01-01 00:00:00</td>\n",
        "      <td>-1.8</td>\n",
        "    </tr>\n",
        "    <tr>\n",
        "      <th>2</th>\n",
        "      <td>2012-01-01 01:00:00</td>\n",
        "      <td>-1.8</td>\n",
        "    </tr>\n",
        "    <tr>\n",
        "      <th>3</th>\n",
        "      <td>2012-01-01 02:00:00</td>\n",
        "      <td>-1.8</td>\n",
        "    </tr>\n",
        "  </tbody>\n",
        "</table>\n",
        "</div>"
       ],
       "metadata": {},
       "output_type": "display_data",
       "text": [
        "             date_time  temp\n",
        "id                          \n",
        "1  2012-01-01 00:00:00  -1.8\n",
        "2  2012-01-01 01:00:00  -1.8\n",
        "3  2012-01-01 02:00:00  -1.8"
       ]
      }
     ],
     "prompt_number": 7
    },
    {
     "cell_type": "markdown",
     "metadata": {},
     "source": [
      "# 9.2.3 Reading data from a MySQL database"
     ]
    },
    {
     "cell_type": "code",
     "collapsed": false,
     "input": [
      "# This example uses MySQLdb to connect to a local MySQL server,\n",
      "# using a database called \"test\". For more information on using\n",
      "# MySQLdb to connect to MySQL databases, see:\n",
      "# http://initd.org/psycopg/docs/module.html#psycopg2.connect\n",
      "# MySQLdb can be installed with: pip install MySQL-python\n",
      "if MySQLdb:\n",
      "    con = MySQLdb.connect(host=\"localhost\", db=\"test\")\n",
      "\n",
      "    load_example_data(con)\n",
      "    df = pd.read_sql(\"\"\"\n",
      "        SELECT id, date_time, temp\n",
      "        FROM weather_2012\n",
      "        LIMIT 3\n",
      "    \"\"\", con, index_col=\"id\")\n",
      "    display(df)"
     ],
     "language": "python",
     "metadata": {},
     "outputs": [
      {
       "html": [
        "<div style=\"max-height:1000px;max-width:1500px;overflow:auto;\">\n",
        "<table border=\"1\" class=\"dataframe\">\n",
        "  <thead>\n",
        "    <tr style=\"text-align: right;\">\n",
        "      <th></th>\n",
        "      <th>date_time</th>\n",
        "      <th>temp</th>\n",
        "    </tr>\n",
        "    <tr>\n",
        "      <th>id</th>\n",
        "      <th></th>\n",
        "      <th></th>\n",
        "    </tr>\n",
        "  </thead>\n",
        "  <tbody>\n",
        "    <tr>\n",
        "      <th>1</th>\n",
        "      <td>2012-01-01 00:00:00</td>\n",
        "      <td>-1.8</td>\n",
        "    </tr>\n",
        "    <tr>\n",
        "      <th>2</th>\n",
        "      <td>2012-01-01 01:00:00</td>\n",
        "      <td>-1.8</td>\n",
        "    </tr>\n",
        "    <tr>\n",
        "      <th>3</th>\n",
        "      <td>2012-01-01 02:00:00</td>\n",
        "      <td>-1.8</td>\n",
        "    </tr>\n",
        "  </tbody>\n",
        "</table>\n",
        "</div>"
       ],
       "metadata": {},
       "output_type": "display_data",
       "text": [
        "             date_time  temp\n",
        "id                          \n",
        "1  2012-01-01 00:00:00  -1.8\n",
        "2  2012-01-01 01:00:00  -1.8\n",
        "3  2012-01-01 02:00:00  -1.8"
       ]
      }
     ],
     "prompt_number": 8
    }
   ],
   "metadata": {}
  }
 ]
}